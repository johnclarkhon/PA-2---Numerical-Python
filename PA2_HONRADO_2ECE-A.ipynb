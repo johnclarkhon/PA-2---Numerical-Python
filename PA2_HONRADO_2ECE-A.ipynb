{
 "cells": [
  {
   "cell_type": "markdown",
   "id": "df7b2002-8d25-4593-bc77-c041b70dd76e",
   "metadata": {},
   "source": [
    "# EXPERIMENT 2: NUMERICAL PYTHON (NUMPY)"
   ]
  },
  {
   "cell_type": "markdown",
   "id": "67acd896-1ff9-49fe-b424-3a4248b121ff",
   "metadata": {},
   "source": [
    "### Name: HONRADO, John Clark D.\n",
    "### Section: 2ECE-A\n",
    "### September 1, 2024"
   ]
  },
  {
   "cell_type": "markdown",
   "id": "77c3ae5e-af62-4a3c-a76a-a909ca0f6ff8",
   "metadata": {},
   "source": [
    "### --------------------------------------------------------------------------------------------"
   ]
  },
  {
   "cell_type": "markdown",
   "id": "b7386e95-1e01-43f0-86c8-b5ad7046ac1a",
   "metadata": {},
   "source": [
    "## NORMALIZATION PROBLEM"
   ]
  },
  {
   "cell_type": "code",
   "execution_count": 1,
   "id": "4f3f237b-7567-4949-a46d-9d96a93c22b2",
   "metadata": {},
   "outputs": [
    {
     "name": "stdout",
     "output_type": "stream",
     "text": [
      "Random 5 x 5 ndarray:\n",
      "\n",
      " [[0.69149249 0.55014892 0.39413861 0.22531954 0.25852837]\n",
      " [0.0662937  0.89881911 0.45406716 0.608238   0.0751138 ]\n",
      " [0.86318263 0.85679701 0.33198891 0.58767438 0.73341879]\n",
      " [0.7679534  0.42899107 0.04286228 0.25751901 0.25236955]\n",
      " [0.3207652  0.05373915 0.07104778 0.93924756 0.06703717]]\n",
      "\n",
      "\n",
      "Element-wise mean:  0.43187014444949745\n",
      "Element-wise standard deviation: 0.2939949692477308\n",
      "\n",
      "\n",
      "Normalized values of X:\n",
      "\n",
      " [[ 0.88308431  0.40231566 -0.12834074 -0.70256511 -0.58960796]\n",
      " [-1.24347859  1.58828897  0.07550134  0.59990094 -1.21347772]\n",
      " [ 1.46707438  1.44535421 -0.33973789  0.52995544  1.02569322]\n",
      " [ 1.1431599  -0.00979294 -1.32317864 -0.5930412  -0.61055667]\n",
      " [-0.37791443 -1.28618185 -1.22730794  1.72580305 -1.24094973]]\n"
     ]
    }
   ],
   "source": [
    "# Using the Numpy library\n",
    "import numpy as np\n",
    "\n",
    "# Create a random 5 x 5 ndarray and store it to variable X\n",
    "X = np.random.random((5, 5))\n",
    "\n",
    "# Normalize X using .mean() and .std() calls\n",
    "X_normalized = (X - X.mean()) / (X.std())\n",
    "\n",
    "# Save your normalized ndarray as X_normalized.npy\n",
    "np.save('X_normalized.npy', X_normalized)\n",
    "\n",
    "# Testing\n",
    "print(\"Random 5 x 5 ndarray:\\n\\n\", X)\n",
    "print(\"\\n\\nElement-wise mean: \", X.mean())\n",
    "print(\"Element-wise standard deviation:\", X.std())\n",
    "print(\"\\n\\nNormalized values of X:\\n\\n\", np.load('X_normalized.npy'))"
   ]
  },
  {
   "cell_type": "code",
   "execution_count": null,
   "id": "7000d3ae-773d-41df-9609-a92f7b2f0c57",
   "metadata": {},
   "outputs": [],
   "source": []
  },
  {
   "cell_type": "markdown",
   "id": "2643e2f2-66cb-4fbe-8ac2-a045478c4d68",
   "metadata": {},
   "source": [
    "## DIVISIBLE BY 3 PROBLEM"
   ]
  },
  {
   "cell_type": "code",
   "execution_count": 2,
   "id": "d29e0177-13ac-42ad-9802-ba59b120eef0",
   "metadata": {},
   "outputs": [
    {
     "name": "stdout",
     "output_type": "stream",
     "text": [
      "10x10 ndarray with squares of first 100 positive integers: \n",
      "\n",
      " [[    1     4     9    16    25    36    49    64    81   100]\n",
      " [  121   144   169   196   225   256   289   324   361   400]\n",
      " [  441   484   529   576   625   676   729   784   841   900]\n",
      " [  961  1024  1089  1156  1225  1296  1369  1444  1521  1600]\n",
      " [ 1681  1764  1849  1936  2025  2116  2209  2304  2401  2500]\n",
      " [ 2601  2704  2809  2916  3025  3136  3249  3364  3481  3600]\n",
      " [ 3721  3844  3969  4096  4225  4356  4489  4624  4761  4900]\n",
      " [ 5041  5184  5329  5476  5625  5776  5929  6084  6241  6400]\n",
      " [ 6561  6724  6889  7056  7225  7396  7569  7744  7921  8100]\n",
      " [ 8281  8464  8649  8836  9025  9216  9409  9604  9801 10000]]\n",
      "\n",
      "\n",
      "Elements that are divisible by 3:\n",
      "\n",
      " [   9   36   81  144  225  324  441  576  729  900 1089 1296 1521 1764\n",
      " 2025 2304 2601 2916 3249 3600 3969 4356 4761 5184 5625 6084 6561 7056\n",
      " 7569 8100 8649 9216 9801]\n"
     ]
    }
   ],
   "source": [
    "# Using the Numpy library\n",
    "import numpy as np\n",
    "\n",
    "# Creating 10x10 ndarray with squares of first 100 positive integers\n",
    "Arr = np.array(range(1,101)).reshape(10,10)**2\n",
    "\n",
    "# Determine all the elements that are divisible by 3.\n",
    "div_by_3 = Arr[Arr % 3 == 0]\n",
    "\n",
    "# Save the result as div_by_3.npy\n",
    "np.save('div_by_3.npy', div_by_3)\n",
    "\n",
    "# Testing\n",
    "print(\"10x10 ndarray with squares of first 100 positive integers: \\n\\n\", Arr)\n",
    "print(\"\\n\\nElements that are divisible by 3:\\n\\n\", np.load('div_by_3.npy'))"
   ]
  },
  {
   "cell_type": "code",
   "execution_count": null,
   "id": "12fc8a71-2004-4d7f-bd0c-a6f90ba105f1",
   "metadata": {},
   "outputs": [],
   "source": []
  }
 ],
 "metadata": {
  "kernelspec": {
   "display_name": "Python 3 (ipykernel)",
   "language": "python",
   "name": "python3"
  },
  "language_info": {
   "codemirror_mode": {
    "name": "ipython",
    "version": 3
   },
   "file_extension": ".py",
   "mimetype": "text/x-python",
   "name": "python",
   "nbconvert_exporter": "python",
   "pygments_lexer": "ipython3",
   "version": "3.12.4"
  }
 },
 "nbformat": 4,
 "nbformat_minor": 5
}
